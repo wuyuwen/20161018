{
 "cells": [
  {
   "cell_type": "code",
   "execution_count": 8,
   "metadata": {
    "collapsed": false
   },
   "outputs": [],
   "source": [
    "#OOP\n",
    "class BlackSholes:\n",
    "    # 初始化屬性\n",
    "    def __init__(self, S0, K, T, r, Sigma):\n",
    "        self.S0 = S0\n",
    "        self.K = K\n",
    "        self.T = T\n",
    "        self.r = r\n",
    "        self.Sigma = Sigma\n",
    "        \n",
    "    def Call_Value_CF(self):\n",
    "        from math import log, sqrt, exp\n",
    "        from scipy import stats\n",
    "        d1 = (log(S0 / K) + (r + 0.5 * Sigma ** 2) * T) / (Sigma * sqrt(T))\n",
    "        d2 = (log(S0 / K) + (r - 0.5 * Sigma ** 2) * T) / (Sigma * sqrt(T))\n",
    "        C0 = (S0 * stats.norm.cdf(d1, 0, 1)) - K * exp(-r * T) * stats.norm.cdf(d2, 0, 1)\n",
    "        ValMethod = 'CF' + ' [N =' + str(N) + ']'\n",
    "        self.display(ValMethod, C0)\n",
    "    \n",
    "    def Call_Value_BSM (self, N=10000):\n",
    "        from numpy import random, sqrt, exp, maximum, sum\n",
    "        z = random.standard_normal(N)\n",
    "        ST = S0 * exp((r - 0.5 * Sigma ** 2) * T + Sigma * sqrt(T) * z)\n",
    "        CT = maximum(ST - K, 0)\n",
    "        C0 = exp(-r * T) * sum(CT) / N\n",
    "        ValMethod = 'BSM' + ' [N =' + str(N) + ']'\n",
    "        self.display(ValMethod, C0)\n",
    "        \n",
    "    def Put_Value_CF(self):\n",
    "        from math import log, sqrt, exp\n",
    "        from scipy import stats\n",
    "        d1 = (log(S0 / K) + (r + 0.5 * Sigma ** 2) * T) / (Sigma * sqrt(T))\n",
    "        d2 = (log(S0 / K) + (r - 0.5 * Sigma ** 2) * T) / (Sigma * sqrt(T))\n",
    "        C0 = (S0 * stats.norm.cdf(d1, 0, 1)) - K * exp(-r * T) * stats.norm.cdf(d2, 0, 1)\n",
    "        ValMethod = 'CF' + ' [N =' + str(N) + ']'\n",
    "        self.display(ValMethod, C0)\n",
    "    \n",
    "    def Put_Value_BSM (self, N=10000):\n",
    "        from numpy import random, sqrt, exp, maximum, sum\n",
    "        z = random.standard_normal(N)\n",
    "        ST = S0 * exp((r - 0.5 * Sigma ** 2) * T + Sigma * sqrt(T) * z)\n",
    "        CT = maximum(K - ST, 0)\n",
    "        C0 = exp(-r * T) * sum(CT) / N\n",
    "        ValMethod = 'BSM' + ' [N =' + str(N) + ']'\n",
    "        self.display(ValMethod, C0)\n",
    "        \n",
    "    def display(self, ValMethod, C0):\n",
    "        print('Call (' + ValMethod + '): ' + str(C0))\n",
    "        print('Put (' + ValMethod + '): ' + str(C0))"
   ]
  },
  {
   "cell_type": "code",
   "execution_count": 9,
   "metadata": {
    "collapsed": false
   },
   "outputs": [
    {
     "name": "stdout",
     "output_type": "stream",
     "text": [
      "Call (CF [N =100000]): 8.02135223514\n",
      "Put (CF [N =100000]): 8.02135223514\n",
      "Call (BSM [N =10000]): 8.09492235602\n",
      "Put (BSM [N =10000]): 8.09492235602\n",
      "Call (BSM [N =100000]): 8.0332096199\n",
      "Put (BSM [N =100000]): 8.0332096199\n",
      "Call (CF [N =100000]): 8.02135223514\n",
      "Put (CF [N =100000]): 8.02135223514\n",
      "Call (BSM [N =10000]): 7.98119555257\n",
      "Put (BSM [N =10000]): 7.98119555257\n",
      "Call (BSM [N =100000]): 7.94616452985\n",
      "Put (BSM [N =100000]): 7.94616452985\n"
     ]
    }
   ],
   "source": [
    "S0 = 100\n",
    "K = 105\n",
    "T = 1\n",
    "r = 0.05\n",
    "Sigma = 0.2\n",
    "N = 100000\n",
    "\n",
    "BS = BlackSholes(S0, K, T, r, Sigma)\n",
    "BS.Call_Value_CF()\n",
    "BS.Call_Value_BSM()\n",
    "BS.Call_Value_BSM(100000)\n",
    "BS.Put_Value_CF()\n",
    "BS.Put_Value_BSM()\n",
    "BS.Put_Value_BSM(100000)"
   ]
  },
  {
   "cell_type": "code",
   "execution_count": null,
   "metadata": {
    "collapsed": true
   },
   "outputs": [],
   "source": []
  }
 ],
 "metadata": {
  "anaconda-cloud": {},
  "kernelspec": {
   "display_name": "Python [Root]",
   "language": "python",
   "name": "Python [Root]"
  },
  "language_info": {
   "codemirror_mode": {
    "name": "ipython",
    "version": 3
   },
   "file_extension": ".py",
   "mimetype": "text/x-python",
   "name": "python",
   "nbconvert_exporter": "python",
   "pygments_lexer": "ipython3",
   "version": "3.5.2"
  }
 },
 "nbformat": 4,
 "nbformat_minor": 0
}
