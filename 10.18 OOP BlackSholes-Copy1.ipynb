{
 "cells": [
  {
   "cell_type": "code",
   "execution_count": 15,
   "metadata": {
    "collapsed": false
   },
   "outputs": [],
   "source": [
    "#OOP\n",
    "class BlackSholes:\n",
    "    # 初始化屬性\n",
    "    def __init__(self, S0, K, T, r, Sigma):\n",
    "        self.S0 = S0\n",
    "        self.K = K\n",
    "        self.T = T\n",
    "        self.r = r\n",
    "        self.Sigma = Sigma\n",
    "        \n",
    "    def Call_Value_CF(self):\n",
    "        from math import log, sqrt, exp\n",
    "        from scipy import stats\n",
    "        d1 = Call_Value_d1(self)\n",
    "        d2 = Call_Value_d2(self)\n",
    "        C0 = (S0 * stats.norm.cdf(d1, 0, 1)) - K * exp(-r * T) * stats.norm.cdf(d2, 0, 1)\n",
    "        ValMethod = 'CF' + ' [N =' + str(N) + ']'\n",
    "        self.display(ValMethod, C0)\n",
    "        \n",
    "    def Call_Value_d1(self):\n",
    "        from math import log, sqrt, exp\n",
    "        return(log(S0 / K) + (r + 0.5 * Sigma ** 2) * T) / (Sigma * sqrt(T))\n",
    "   \n",
    "    def Call_Value_d2(self):\n",
    "        from math import log, sqrt, exp\n",
    "        return(log(S0 / K) + (r - 0.5 * Sigma ** 2) * T) / (Sigma * sqrt(T))\n",
    "\n",
    "    def Call_Value_BSM (self, N=10000):\n",
    "        from numpy import random, sqrt, exp, maximum, sum\n",
    "        z = random.standard_normal(N)\n",
    "        ST = S0 * exp((r - 0.5 * Sigma ** 2) * T + Sigma * sqrt(T) * z)\n",
    "        CT = maximum(ST - K, 0)\n",
    "        C0 = exp(-r * T) * sum(CT) / N\n",
    "        ValMethod = 'BSM' + ' [N =' + str(N) + ']'\n",
    "        self.display(ValMethod, C0)\n",
    "        \n",
    "    def display(self, ValMethod, C0):\n",
    "        print('Call (' + ValMethod + '): ' + str(C0))"
   ]
  },
  {
   "cell_type": "code",
   "execution_count": 16,
   "metadata": {
    "collapsed": false
   },
   "outputs": [
    {
     "ename": "NameError",
     "evalue": "name 'Call_Value_d1' is not defined",
     "output_type": "error",
     "traceback": [
      "\u001b[1;31m---------------------------------------------------------------------------\u001b[0m",
      "\u001b[1;31mNameError\u001b[0m                                 Traceback (most recent call last)",
      "\u001b[1;32m<ipython-input-16-4821557aadb5>\u001b[0m in \u001b[0;36m<module>\u001b[1;34m()\u001b[0m\n\u001b[0;32m      7\u001b[0m \u001b[1;33m\u001b[0m\u001b[0m\n\u001b[0;32m      8\u001b[0m \u001b[0mBS\u001b[0m \u001b[1;33m=\u001b[0m \u001b[0mBlackSholes\u001b[0m\u001b[1;33m(\u001b[0m\u001b[0mS0\u001b[0m\u001b[1;33m,\u001b[0m \u001b[0mK\u001b[0m\u001b[1;33m,\u001b[0m \u001b[0mT\u001b[0m\u001b[1;33m,\u001b[0m \u001b[0mr\u001b[0m\u001b[1;33m,\u001b[0m \u001b[0mSigma\u001b[0m\u001b[1;33m)\u001b[0m\u001b[1;33m\u001b[0m\u001b[0m\n\u001b[1;32m----> 9\u001b[1;33m \u001b[0mBS\u001b[0m\u001b[1;33m.\u001b[0m\u001b[0mCall_Value_CF\u001b[0m\u001b[1;33m(\u001b[0m\u001b[1;33m)\u001b[0m\u001b[1;33m\u001b[0m\u001b[0m\n\u001b[0m\u001b[0;32m     10\u001b[0m \u001b[0mBS\u001b[0m\u001b[1;33m.\u001b[0m\u001b[0mCall_Value_BSM\u001b[0m\u001b[1;33m(\u001b[0m\u001b[1;33m)\u001b[0m\u001b[1;33m\u001b[0m\u001b[0m\n\u001b[0;32m     11\u001b[0m \u001b[0mBS\u001b[0m\u001b[1;33m.\u001b[0m\u001b[0mCall_Value_BSM\u001b[0m\u001b[1;33m(\u001b[0m\u001b[1;36m100000\u001b[0m\u001b[1;33m)\u001b[0m\u001b[1;33m\u001b[0m\u001b[0m\n",
      "\u001b[1;32m<ipython-input-15-a3ce079a339b>\u001b[0m in \u001b[0;36mCall_Value_CF\u001b[1;34m(self)\u001b[0m\n\u001b[0;32m     12\u001b[0m         \u001b[1;32mfrom\u001b[0m \u001b[0mmath\u001b[0m \u001b[1;32mimport\u001b[0m \u001b[0mlog\u001b[0m\u001b[1;33m,\u001b[0m \u001b[0msqrt\u001b[0m\u001b[1;33m,\u001b[0m \u001b[0mexp\u001b[0m\u001b[1;33m\u001b[0m\u001b[0m\n\u001b[0;32m     13\u001b[0m         \u001b[1;32mfrom\u001b[0m \u001b[0mscipy\u001b[0m \u001b[1;32mimport\u001b[0m \u001b[0mstats\u001b[0m\u001b[1;33m\u001b[0m\u001b[0m\n\u001b[1;32m---> 14\u001b[1;33m         \u001b[0md1\u001b[0m \u001b[1;33m=\u001b[0m \u001b[0mCall_Value_d1\u001b[0m\u001b[1;33m(\u001b[0m\u001b[0mself\u001b[0m\u001b[1;33m)\u001b[0m\u001b[1;33m\u001b[0m\u001b[0m\n\u001b[0m\u001b[0;32m     15\u001b[0m         \u001b[0md2\u001b[0m \u001b[1;33m=\u001b[0m \u001b[0mCall_Value_d2\u001b[0m\u001b[1;33m(\u001b[0m\u001b[0mself\u001b[0m\u001b[1;33m)\u001b[0m\u001b[1;33m\u001b[0m\u001b[0m\n\u001b[0;32m     16\u001b[0m         \u001b[0mC0\u001b[0m \u001b[1;33m=\u001b[0m \u001b[1;33m(\u001b[0m\u001b[0mS0\u001b[0m \u001b[1;33m*\u001b[0m \u001b[0mstats\u001b[0m\u001b[1;33m.\u001b[0m\u001b[0mnorm\u001b[0m\u001b[1;33m.\u001b[0m\u001b[0mcdf\u001b[0m\u001b[1;33m(\u001b[0m\u001b[0md1\u001b[0m\u001b[1;33m,\u001b[0m \u001b[1;36m0\u001b[0m\u001b[1;33m,\u001b[0m \u001b[1;36m1\u001b[0m\u001b[1;33m)\u001b[0m\u001b[1;33m)\u001b[0m \u001b[1;33m-\u001b[0m \u001b[0mK\u001b[0m \u001b[1;33m*\u001b[0m \u001b[0mexp\u001b[0m\u001b[1;33m(\u001b[0m\u001b[1;33m-\u001b[0m\u001b[0mr\u001b[0m \u001b[1;33m*\u001b[0m \u001b[0mT\u001b[0m\u001b[1;33m)\u001b[0m \u001b[1;33m*\u001b[0m \u001b[0mstats\u001b[0m\u001b[1;33m.\u001b[0m\u001b[0mnorm\u001b[0m\u001b[1;33m.\u001b[0m\u001b[0mcdf\u001b[0m\u001b[1;33m(\u001b[0m\u001b[0md2\u001b[0m\u001b[1;33m,\u001b[0m \u001b[1;36m0\u001b[0m\u001b[1;33m,\u001b[0m \u001b[1;36m1\u001b[0m\u001b[1;33m)\u001b[0m\u001b[1;33m\u001b[0m\u001b[0m\n",
      "\u001b[1;31mNameError\u001b[0m: name 'Call_Value_d1' is not defined"
     ]
    }
   ],
   "source": [
    "S0 = 100\n",
    "K = 105\n",
    "T = 1\n",
    "r = 0.05\n",
    "Sigma = 0.2\n",
    "N = 100000\n",
    "\n",
    "BS = BlackSholes(S0, K, T, r, Sigma)\n",
    "BS.Call_Value_CF()\n",
    "BS.Call_Value_BSM()\n",
    "BS.Call_Value_BSM(100000)\n",
    "Call_Value_d1(self)\n",
    "Call_Value_d2(self)"
   ]
  },
  {
   "cell_type": "code",
   "execution_count": null,
   "metadata": {
    "collapsed": true
   },
   "outputs": [],
   "source": []
  }
 ],
 "metadata": {
  "anaconda-cloud": {},
  "kernelspec": {
   "display_name": "Python [Root]",
   "language": "python",
   "name": "Python [Root]"
  },
  "language_info": {
   "codemirror_mode": {
    "name": "ipython",
    "version": 3
   },
   "file_extension": ".py",
   "mimetype": "text/x-python",
   "name": "python",
   "nbconvert_exporter": "python",
   "pygments_lexer": "ipython3",
   "version": "3.5.2"
  }
 },
 "nbformat": 4,
 "nbformat_minor": 0
}
